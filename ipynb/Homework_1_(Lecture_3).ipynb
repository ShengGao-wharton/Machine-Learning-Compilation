{
  "nbformat": 4,
  "nbformat_minor": 0,
  "metadata": {
    "colab": {
      "name": "MLC_Homework 1 (Lecture 3).ipynb",
      "provenance": [],
      "toc_visible": true
    },
    "kernelspec": {
      "name": "python3",
      "display_name": "Python 3"
    },
    "language_info": {
      "name": "python"
    }
  },
  "cells": [
    {
      "cell_type": "code",
      "execution_count": 1,
      "metadata": {
        "colab": {
          "base_uri": "https://localhost:8080/"
        },
        "id": "echlcAqoknzC",
        "outputId": "ab6ce186-ce93-4750-c9e6-a4a0f982b8e8"
      },
      "outputs": [
        {
          "output_type": "stream",
          "name": "stdout",
          "text": [
            "Looking in indexes: https://pypi.org/simple, https://us-python.pkg.dev/colab-wheels/public/simple/\n",
            "Looking in links: https://mlc.ai/wheels\n",
            "Collecting mlc-ai-nightly\n",
            "  Downloading https://github.com/mlc-ai/utils/releases/download/v0.9.dev0/mlc_ai_nightly-0.9.dev1664%2Bg1f3985de0-cp37-cp37m-manylinux_2_17_x86_64.manylinux2014_x86_64.whl (43.3 MB)\n",
            "\u001b[K     |████████████████████████████████| 43.3 MB 30.7 MB/s \n",
            "\u001b[?25hRequirement already satisfied: tornado in /usr/local/lib/python3.7/dist-packages (from mlc-ai-nightly) (5.1.1)\n",
            "Requirement already satisfied: decorator in /usr/local/lib/python3.7/dist-packages (from mlc-ai-nightly) (4.4.2)\n",
            "Requirement already satisfied: attrs in /usr/local/lib/python3.7/dist-packages (from mlc-ai-nightly) (21.4.0)\n",
            "Requirement already satisfied: psutil in /usr/local/lib/python3.7/dist-packages (from mlc-ai-nightly) (5.4.8)\n",
            "Requirement already satisfied: numpy in /usr/local/lib/python3.7/dist-packages (from mlc-ai-nightly) (1.21.6)\n",
            "Requirement already satisfied: scipy in /usr/local/lib/python3.7/dist-packages (from mlc-ai-nightly) (1.4.1)\n",
            "Collecting synr==0.6.0\n",
            "  Downloading synr-0.6.0-py3-none-any.whl (18 kB)\n",
            "Requirement already satisfied: cloudpickle in /usr/local/lib/python3.7/dist-packages (from mlc-ai-nightly) (1.3.0)\n",
            "Installing collected packages: synr, mlc-ai-nightly\n",
            "Successfully installed mlc-ai-nightly-0.9.dev1664+g1f3985de0 synr-0.6.0\n"
          ]
        }
      ],
      "source": [
        "!python3 -m  pip install mlc-ai-nightly -f https://mlc.ai/wheels"
      ]
    },
    {
      "cell_type": "code",
      "source": [
        "import IPython\n",
        "import numpy as np\n",
        "import tvm\n",
        "from tvm.ir.module import IRModule\n",
        "from tvm.script import tir as T"
      ],
      "metadata": {
        "id": "BTamnLcektBp"
      },
      "execution_count": 99,
      "outputs": []
    },
    {
      "cell_type": "markdown",
      "source": [
        "## Section 1: How to Write TensorIR"
      ],
      "metadata": {
        "id": "oci5sVbck8zY"
      }
    },
    {
      "cell_type": "markdown",
      "source": [
        "In this section, let’s try to write TensorIR manually according to high-level instructions (e.g., Numpy or Torch). First, we give an example of element-wise add function, to show what should we do to write a TensorIR function."
      ],
      "metadata": {
        "id": "EPIzzgmtk7x2"
      }
    },
    {
      "cell_type": "markdown",
      "source": [
        "### Elementwise add"
      ],
      "metadata": {
        "id": "hm_70p_clia7"
      }
    },
    {
      "cell_type": "code",
      "source": [
        "# init data\n",
        "a = np.arange(16).reshape(4, 4)\n",
        "b = np.arange(16, 0, -1).reshape(4, 4)"
      ],
      "metadata": {
        "id": "FXge3OnglAVq"
      },
      "execution_count": 38,
      "outputs": []
    },
    {
      "cell_type": "code",
      "source": [
        "# numpy version\n",
        "c_np = a + b\n",
        "c_np"
      ],
      "metadata": {
        "colab": {
          "base_uri": "https://localhost:8080/"
        },
        "id": "CT8rMe--lCPv",
        "outputId": "b9970b7b-c94d-4445-adfc-c1f31c6010b2"
      },
      "execution_count": 39,
      "outputs": [
        {
          "output_type": "execute_result",
          "data": {
            "text/plain": [
              "array([[16, 16, 16, 16],\n",
              "       [16, 16, 16, 16],\n",
              "       [16, 16, 16, 16],\n",
              "       [16, 16, 16, 16]])"
            ]
          },
          "metadata": {},
          "execution_count": 39
        }
      ]
    },
    {
      "cell_type": "markdown",
      "source": [
        "Before we directly write TensorIR, we should first translate high-level computation abstraction (e.g., ndarray + ndarray) to low-level python implementation (standard for loops with element access and operation)\n",
        "\n",
        "Notably, the initial value of the o utput array (or buffer) is not always 0. We need to write or initialize it in our implementation, which is important for reduction operator (e.g. matmul and conv)"
      ],
      "metadata": {
        "id": "q3KZ-ZA5YvkY"
      }
    },
    {
      "cell_type": "code",
      "source": [
        "# low-level numpy version\n",
        "def lnumpy_add(a: np.ndarray, b: np.ndarray, c: np.ndarray):\n",
        "  for i in range(4):\n",
        "    for j in range(4):\n",
        "      c[i, j] = a[i, j] + b[i, j]\n",
        "c_lnumpy = np.empty((4, 4), dtype=np.int64)\n",
        "lnumpy_add(a, b, c_lnumpy)\n",
        "c_lnumpy"
      ],
      "metadata": {
        "id": "8IXlAM_ilEG_",
        "colab": {
          "base_uri": "https://localhost:8080/"
        },
        "outputId": "238084f9-2917-41ec-df16-6e3464ba53f1"
      },
      "execution_count": 40,
      "outputs": [
        {
          "output_type": "execute_result",
          "data": {
            "text/plain": [
              "array([[16, 16, 16, 16],\n",
              "       [16, 16, 16, 16],\n",
              "       [16, 16, 16, 16],\n",
              "       [16, 16, 16, 16]])"
            ]
          },
          "metadata": {},
          "execution_count": 40
        }
      ]
    },
    {
      "cell_type": "markdown",
      "source": [
        "Now, let’s take a further step: translate low-level NumPy implementation into TensorIR. And compare the result with it comes from NumPy.\n",
        "\n"
      ],
      "metadata": {
        "id": "bjZ_y5iGY5iU"
      }
    },
    {
      "cell_type": "code",
      "source": [
        "# TensorIR version\n",
        "@tvm.script.ir_module\n",
        "class MyAdd:\n",
        "  @T.prim_func\n",
        "  def add(A: T.Buffer[(4, 4), \"int64\"],\n",
        "          B: T.Buffer[(4, 4), \"int64\"],\n",
        "          C: T.Buffer[(4, 4), \"int64\"]):\n",
        "    T.func_attr({\"global_symbol\": \"add\"})\n",
        "    for i, j in T.grid(4, 4):\n",
        "      with T.block(\"C\"):\n",
        "        vi = T.axis.spatial(4, i)\n",
        "        vj = T.axis.spatial(4, j)\n",
        "        C[vi, vj] = A[vi, vj] + B[vi, vj]\n",
        "\n",
        "rt_lib = tvm.build(MyAdd, target=\"llvm\")\n",
        "a_tvm = tvm.nd.array(a)\n",
        "b_tvm = tvm.nd.array(b)\n",
        "c_tvm = tvm.nd.array(np.empty((4, 4), dtype=np.int64))\n",
        "rt_lib[\"add\"](a_tvm, b_tvm, c_tvm)\n",
        "np.testing.assert_allclose(c_tvm.numpy(), c_np, rtol=1e-5)\n"
      ],
      "metadata": {
        "id": "hTEVLpukY1_e"
      },
      "execution_count": 34,
      "outputs": []
    },
    {
      "cell_type": "code",
      "source": [
        ""
      ],
      "metadata": {
        "id": "MYsc8rEDY4xg"
      },
      "execution_count": 7,
      "outputs": []
    },
    {
      "cell_type": "markdown",
      "source": [
        "### Exercise 1: Broadcast Add\n"
      ],
      "metadata": {
        "id": "M78CWdYaZCBv"
      }
    },
    {
      "cell_type": "code",
      "source": [
        "# init data\n",
        "a = np.arange(16).reshape(4, 4)\n",
        "b = np.arange(4, 0, -1).reshape(4)"
      ],
      "metadata": {
        "id": "-Zz6cxyuZDpV"
      },
      "execution_count": 43,
      "outputs": []
    },
    {
      "cell_type": "code",
      "source": [
        "# numpy version\n",
        "c_np = a + b\n",
        "c_np"
      ],
      "metadata": {
        "colab": {
          "base_uri": "https://localhost:8080/"
        },
        "id": "xpg0sYcuZSjN",
        "outputId": "b2b87b52-4cec-43b8-d7a2-929035aa46be"
      },
      "execution_count": 44,
      "outputs": [
        {
          "output_type": "execute_result",
          "data": {
            "text/plain": [
              "array([[ 4,  4,  4,  4],\n",
              "       [ 8,  8,  8,  8],\n",
              "       [12, 12, 12, 12],\n",
              "       [16, 16, 16, 16]])"
            ]
          },
          "metadata": {},
          "execution_count": 44
        }
      ]
    },
    {
      "cell_type": "code",
      "source": [
        ""
      ],
      "metadata": {
        "colab": {
          "base_uri": "https://localhost:8080/"
        },
        "id": "7Vf4a7_YZkc4",
        "outputId": "c4688d7d-829e-4144-e30f-6f317a75e2d1"
      },
      "execution_count": 10,
      "outputs": [
        {
          "output_type": "execute_result",
          "data": {
            "text/plain": [
              "(4,)"
            ]
          },
          "metadata": {},
          "execution_count": 10
        }
      ]
    },
    {
      "cell_type": "code",
      "source": [
        "@tvm.script.ir_module\n",
        "class MyAdd:\n",
        "  @T.prim_func\n",
        "  def add(A: T.Buffer[(4, 4), \"int64\"],\n",
        "          B: T.Buffer[(4), \"int64\"],\n",
        "          C: T.Buffer[(4, 4), \"int64\"]):\n",
        "      T.func_attr({\"global_symbol\": \"add\", \"tir.noalias\": True})\n",
        "      for i, j in T.grid(4, 4):\n",
        "        with T.block(\"C\"):\n",
        "          vi=T.axis.spatial(4, i)\n",
        "          vj=T.axis.spatial(4, j)\n",
        "          C[vi, vj] = A[vi, vj] + B[vj]\n",
        "\n",
        "rt_lib = tvm.build(MyAdd, target=\"llvm\")\n",
        "a_tvm = tvm.nd.array(a)\n",
        "b_tvm = tvm.nd.array(b)\n",
        "c_tvm = tvm.nd.array(np.empty((4, 4), dtype=np.int64))\n",
        "rt_lib[\"add\"](a_tvm, b_tvm, c_tvm)\n",
        "np.testing.assert_allclose(c_tvm.numpy(), c_np, rtol=1e-5)"
      ],
      "metadata": {
        "id": "P_0yCFEhZSmk"
      },
      "execution_count": 66,
      "outputs": []
    },
    {
      "cell_type": "code",
      "source": [
        ""
      ],
      "metadata": {
        "id": "2VMA3L0DZSqD"
      },
      "execution_count": null,
      "outputs": []
    },
    {
      "cell_type": "markdown",
      "source": [
        "## Exercise 2: 2D Convolution"
      ],
      "metadata": {
        "id": "zZgTcC7dbCNd"
      }
    },
    {
      "cell_type": "markdown",
      "source": [
        "Then, let’s try to do something challenging: 2D convolution, which is a common operation in image processing.\n",
        "\n",
        "Here is the mathematical definition of convolution with NCHW layout:"
      ],
      "metadata": {
        "id": "qmnq2YqIb-RS"
      }
    },
    {
      "cell_type": "markdown",
      "source": [
        "$Conv[b, k, i, j] = \\sum_{di, dj, q} A[b, q, strides * i + di, strides * j + dj] * W[k, q, di, dj]$"
      ],
      "metadata": {
        "id": "8m2coZQjboIh"
      }
    },
    {
      "cell_type": "markdown",
      "source": [
        ", where, A is the input tensor, W is the weight tensor, b is the batch index, k is the out channels, i and j are indices for image hight and width, di and dj are the indices of the weight, q is the input channel, and strides is the stride of the filter window.\n",
        "\n",
        "In the exercise, we pick a small and simple case with stride=1, padding=0."
      ],
      "metadata": {
        "id": "CG1cANUqcANe"
      }
    },
    {
      "cell_type": "code",
      "source": [
        "N, CI, H, W, CO, K = 1, 1, 8, 8, 2, 3\n",
        "OUT_H, OUT_W = H - K + 1, W - K + 1\n",
        "data = np.arange(N*CI*H*W).reshape(N, CI, H, W)\n",
        "weight = np.arange(CO*CI*K*K).reshape(CO, CI, K, K)"
      ],
      "metadata": {
        "id": "-YU7IcQLbGRO"
      },
      "execution_count": 78,
      "outputs": []
    },
    {
      "cell_type": "code",
      "source": [
        "# torch version\n",
        "import torch\n",
        "\n",
        "data_torch = torch.Tensor(data)\n",
        "weight_torch = torch.Tensor(weight)\n",
        "conv_torch = torch.nn.functional.conv2d(data_torch, weight_torch)\n",
        "conv_torch = conv_torch.numpy().astype(np.int64)\n",
        "conv_torch"
      ],
      "metadata": {
        "colab": {
          "base_uri": "https://localhost:8080/"
        },
        "id": "qEbc4i64bQtu",
        "outputId": "1a1d9dec-f791-43d9-fb62-91a1f805e763"
      },
      "execution_count": 50,
      "outputs": [
        {
          "output_type": "execute_result",
          "data": {
            "text/plain": [
              "array([[[[ 474,  510,  546,  582,  618,  654],\n",
              "         [ 762,  798,  834,  870,  906,  942],\n",
              "         [1050, 1086, 1122, 1158, 1194, 1230],\n",
              "         [1338, 1374, 1410, 1446, 1482, 1518],\n",
              "         [1626, 1662, 1698, 1734, 1770, 1806],\n",
              "         [1914, 1950, 1986, 2022, 2058, 2094]],\n",
              "\n",
              "        [[1203, 1320, 1437, 1554, 1671, 1788],\n",
              "         [2139, 2256, 2373, 2490, 2607, 2724],\n",
              "         [3075, 3192, 3309, 3426, 3543, 3660],\n",
              "         [4011, 4128, 4245, 4362, 4479, 4596],\n",
              "         [4947, 5064, 5181, 5298, 5415, 5532],\n",
              "         [5883, 6000, 6117, 6234, 6351, 6468]]]])"
            ]
          },
          "metadata": {},
          "execution_count": 50
        }
      ]
    },
    {
      "cell_type": "code",
      "source": [
        "@tvm.script.ir_module\n",
        "class MyConv:\n",
        "  @T.prim_func\n",
        "  def conv(A: T.Buffer[(N,CI,8,8), \"int64\"],\n",
        "           W: T.Buffer[(CO,CI,K,K), \"int64\"],\n",
        "           C: T.Buffer[(N,CO,OUT_H,OUT_W), \"int64\"]):\n",
        "    T.func_attr({\"global_symbol\": \"conv\", \"tir.noalias\": True})\n",
        "    for b, k, i, j, di, dj, q in T.grid(N, CO, OUT_H, OUT_W, K, K, CI):\n",
        "      with T.block(\"C\"):\n",
        "       vb=T.axis.spatial(N, b)\n",
        "       vk=T.axis.spatial(CO,k)\n",
        "       vi=T.axis.spatial(OUT_H, i)\n",
        "       vj=T.axis.spatial(OUT_W, j)\n",
        "       vdi=T.axis.reduce(K, di)\n",
        "       vdj=T.axis.reduce(K, dj)\n",
        "       vq=T.axis.reduce(CI, q)\n",
        "       with T.init():\n",
        "         C[vb, vk, vi, vj] = T.int64(0)\n",
        "       C[vb, vk, vi, vj] = C[vb, vk, vi, vj] + A[vb, vq, vi+vdi, vj+vdj] * W[vk,vq,vdi,vdj]\n",
        "      \n",
        "\n",
        "rt_lib = tvm.build(MyConv, target=\"llvm\")\n",
        "data_tvm = tvm.nd.array(data)\n",
        "weight_tvm = tvm.nd.array(weight)\n",
        "conv_tvm = tvm.nd.array(np.empty((N, CO, OUT_H, OUT_W), dtype=np.int64))\n",
        "rt_lib[\"conv\"](data_tvm, weight_tvm, conv_tvm)\n",
        "np.testing.assert_allclose(conv_tvm.numpy(), conv_torch, rtol=1e-5)"
      ],
      "metadata": {
        "id": "X-Wz-zwUbTB3"
      },
      "execution_count": 101,
      "outputs": []
    },
    {
      "cell_type": "code",
      "source": [
        ""
      ],
      "metadata": {
        "id": "Pms2i26Chean"
      },
      "execution_count": null,
      "outputs": []
    },
    {
      "cell_type": "markdown",
      "source": [
        "## Section 2: How to Transform TensorIR"
      ],
      "metadata": {
        "id": "2XEMq_Z0ijDg"
      }
    },
    {
      "cell_type": "markdown",
      "source": [
        "In the lecture, we learned that TensorIR is not only a programming language but also an abstraction for program transformation. In this section, let’s try to transform the program. We take bmm_relu (batched_matmul_relu) in our studies, which is a variant of operations that common appear in models such as transformers."
      ],
      "metadata": {
        "id": "zZIffR3-ils-"
      }
    },
    {
      "cell_type": "markdown",
      "source": [
        "### Parallel, Vectorize and Unroll\n"
      ],
      "metadata": {
        "id": "TH6Rh_F7iqRq"
      }
    },
    {
      "cell_type": "markdown",
      "source": [
        "First, we introduce some new primitives, parallel, vectorize and unroll. These three primitives operates on loops to indicate how this loop execute. Here is the example:"
      ],
      "metadata": {
        "id": "4Hu6s8fVityd"
      }
    },
    {
      "cell_type": "code",
      "source": [
        "import IPython\n",
        "\n",
        "def code2html(code):\n",
        "    \"\"\"Helper function to use pygments to turn the code string into highlighted html.\"\"\"\n",
        "    import pygments\n",
        "    from pygments.lexers import Python3Lexer\n",
        "    from pygments.formatters import HtmlFormatter\n",
        "    formatter = HtmlFormatter()\n",
        "    html = pygments.highlight(code, Python3Lexer(), formatter)\n",
        "    return \"<style>%s</style>%s\\n\" % (formatter.get_style_defs(\".highlight\"), html)"
      ],
      "metadata": {
        "id": "5xeclv_mjA9X"
      },
      "execution_count": 83,
      "outputs": []
    },
    {
      "cell_type": "code",
      "source": [
        "@tvm.script.ir_module\n",
        "class MyAdd:\n",
        "  @T.prim_func\n",
        "  def add(A: T.Buffer[(4, 4), \"int64\"],\n",
        "          B: T.Buffer[(4, 4), \"int64\"],\n",
        "          C: T.Buffer[(4, 4), \"int64\"]):\n",
        "    T.func_attr({\"global_symbol\": \"add\"})\n",
        "    for i, j in T.grid(4, 4):\n",
        "      with T.block(\"C\"):\n",
        "        vi = T.axis.spatial(4, i)\n",
        "        vj = T.axis.spatial(4, j)\n",
        "        C[vi, vj] = A[vi, vj] + B[vi, vj]\n",
        "\n",
        "sch = tvm.tir.Schedule(MyAdd)\n",
        "block = sch.get_block(\"C\", func_name=\"add\")\n",
        "i, j = sch.get_loops(block)\n",
        "i0, i1 = sch.split(i, factors=[2, 2])\n",
        "sch.parallel(i0)\n",
        "sch.unroll(i1)\n",
        "sch.vectorize(j)\n"
      ],
      "metadata": {
        "id": "Ztc_ExJdhed0"
      },
      "execution_count": 87,
      "outputs": []
    },
    {
      "cell_type": "code",
      "source": [
        "print(sch.mod.script())"
      ],
      "metadata": {
        "colab": {
          "base_uri": "https://localhost:8080/"
        },
        "id": "dDOSOPAKjGgh",
        "outputId": "cda4a6e3-fe04-4488-9151-e1bce9c2b872"
      },
      "execution_count": 88,
      "outputs": [
        {
          "output_type": "stream",
          "name": "stdout",
          "text": [
            "@tvm.script.ir_module\n",
            "class Module:\n",
            "    @tir.prim_func\n",
            "    def add(A: tir.Buffer[(4, 4), \"int64\"], B: tir.Buffer[(4, 4), \"int64\"], C: tir.Buffer[(4, 4), \"int64\"]) -> None:\n",
            "        # function attr dict\n",
            "        tir.func_attr({\"global_symbol\": \"add\"})\n",
            "        # body\n",
            "        # with tir.block(\"root\")\n",
            "        for i_0 in tir.parallel(2):\n",
            "            for i_1 in tir.unroll(2):\n",
            "                for j in tir.vectorized(4):\n",
            "                    with tir.block(\"C\"):\n",
            "                        vi = tir.axis.spatial(4, i_0 * 2 + i_1)\n",
            "                        vj = tir.axis.spatial(4, j)\n",
            "                        tir.reads(A[vi, vj], B[vi, vj])\n",
            "                        tir.writes(C[vi, vj])\n",
            "                        C[vi, vj] = A[vi, vj] + B[vi, vj]\n",
            "    \n"
          ]
        }
      ]
    },
    {
      "cell_type": "code",
      "source": [
        "from tvm.script import tir\n",
        "@tvm.script.ir_module\n",
        "class Module:\n",
        "    @tir.prim_func\n",
        "    def add(A: tir.Buffer[(4, 4), \"int64\"], B: tir.Buffer[(4, 4), \"int64\"], C: tir.Buffer[(4, 4), \"int64\"]) -> None:\n",
        "        # function attr dict\n",
        "        tir.func_attr({\"global_symbol\": \"add\"})\n",
        "        # body\n",
        "        # with tir.block(\"root\")\n",
        "        for i_0 in tir.parallel(2):\n",
        "            for i_1 in tir.unroll(2):\n",
        "                for j in tir.vectorized(4):\n",
        "                    with tir.block(\"C\"):\n",
        "                        vi = tir.axis.spatial(4, i_0 * 2 + i_1)\n",
        "                        vj = tir.axis.spatial(4, j)\n",
        "                        tir.reads(A[vi, vj], B[vi, vj])\n",
        "                        tir.writes(C[vi, vj])\n",
        "                        C[vi, vj] = A[vi, vj] + B[vi, vj]"
      ],
      "metadata": {
        "id": "N91yd04YjXQU"
      },
      "execution_count": 90,
      "outputs": []
    },
    {
      "cell_type": "code",
      "source": [
        ""
      ],
      "metadata": {
        "id": "f4-bRviEjXTj"
      },
      "execution_count": null,
      "outputs": []
    },
    {
      "cell_type": "markdown",
      "source": [
        "### Exercise 3: Transform a batch matmul program"
      ],
      "metadata": {
        "id": "sn21KC4Cjk1B"
      }
    },
    {
      "cell_type": "markdown",
      "source": [
        "Now, let’s go back to the bmm_relu exercise. First, Let’s see the definition of bmm $Y_{n, i, j} = \\sum_k A_{n, i, k} \\times B_{n, k, j}$, $C_{n, i, j} = \\mathbb{relu}(Y_{n,i,j}) = \\mathbb{max}(Y_{n, i, j}, 0)$"
      ],
      "metadata": {
        "id": "EZc0jgWQnoey"
      }
    },
    {
      "cell_type": "markdown",
      "source": [
        "It’s your time to write the TensorIR for bmm_relu. We provide the lnumpy func as hint:\n",
        "\n"
      ],
      "metadata": {
        "id": "50XBHOQ6nz2C"
      }
    },
    {
      "cell_type": "code",
      "source": [
        "def lnumpy_mm_relu_v2(A: np.ndarray, B: np.ndarray, C: np.ndarray):\n",
        "    Y = np.empty((16, 128, 128), dtype=\"float32\")\n",
        "    for n in range(16):\n",
        "        for i in range(128):\n",
        "            for j in range(128):\n",
        "                for k in range(128):\n",
        "                    if k == 0:\n",
        "                        Y[i, j] = 0\n",
        "                    Y[n, i, j] = Y[n, i, j] + A[n, i, k] * B[n, k, j]\n",
        "    for n in range(16):\n",
        "        for i in range(128):\n",
        "            for j in range(128):\n",
        "                C[i, j] = max(Y[i, j], 0)\n"
      ],
      "metadata": {
        "id": "25NPWmH-jnEB"
      },
      "execution_count": 127,
      "outputs": []
    },
    {
      "cell_type": "code",
      "source": [
        "@tvm.script.ir_module\n",
        "class MyBmmRelu:\n",
        "  @T.prim_func\n",
        "  def bmm_relu(A: T.Buffer[(16, 128, 128), \"float32\"],\n",
        "               B: T.Buffer[(16, 128, 128), \"float32\"],\n",
        "               C: T.Buffer[(16, 128, 128), \"float32\"]):\n",
        "    T.func_attr({\"global_symbol\": \"bmm_relu\", \"tir.noalias\": True})\n",
        "    Y = T.alloc_buffer((16, 128, 128), dtype=\"float32\")\n",
        "    for n, i, j, k in T.grid(16, 128, 128, 128):\n",
        "        with T.block(\"Y\"):\n",
        "            vn, vi, vj, vk = T.axis.remap(\"SSSR\", [n, i, j, k])\n",
        "            with T.init():\n",
        "                Y[vn, vi, vj] = T.float32(0)\n",
        "            Y[vn, vi, vj] = Y[vn, vi, vj] + A[vn, vi, vk] * B[vn, vk, vj]\n",
        "    for n, i, j in T.grid(16, 128, 128):\n",
        "        with T.block(\"C\"):\n",
        "            vn, vi, vj = T.axis.remap(\"SSS\", [n, i, j])\n",
        "            C[vn, vi, vj] = T.max(Y[vn, vi, vj], T.float32(0))\n",
        "\n",
        "sch = tvm.tir.Schedule(MyBmmRule)\n",
        "#IPython.display.Code(sch.mod.script(), language=\"python\")\n",
        "# Also please validate your result"
      ],
      "metadata": {
        "id": "H0_pVMjrny0f"
      },
      "execution_count": 140,
      "outputs": []
    },
    {
      "cell_type": "markdown",
      "source": [
        "now let us verify the program"
      ],
      "metadata": {
        "id": "sZ06fGjyo_Gz"
      }
    },
    {
      "cell_type": "code",
      "source": [
        "print(sch.mod.script())"
      ],
      "metadata": {
        "colab": {
          "base_uri": "https://localhost:8080/"
        },
        "id": "osOBri9zpDhB",
        "outputId": "ff763877-9d27-4154-8305-2e99f47e1178"
      },
      "execution_count": 129,
      "outputs": [
        {
          "output_type": "stream",
          "name": "stdout",
          "text": [
            "@tvm.script.ir_module\n",
            "class Module:\n",
            "    @tir.prim_func\n",
            "    def bmm_relu(A: tir.Buffer[(16, 128, 128), \"float32\"], B: tir.Buffer[(16, 128, 128), \"float32\"], C: tir.Buffer[(16, 128, 128), \"float32\"]) -> None:\n",
            "        # function attr dict\n",
            "        tir.func_attr({\"global_symbol\": \"bmm_relu\", \"tir.noalias\": True})\n",
            "        # body\n",
            "        # with tir.block(\"root\")\n",
            "        Y = tir.alloc_buffer([16, 128, 128], dtype=\"float32\")\n",
            "        for n, i, j, k in tir.grid(16, 128, 128, 128):\n",
            "            with tir.block(\"Y\"):\n",
            "                vn, vi, vj, vk = tir.axis.remap(\"SSSR\", [n, i, j, k])\n",
            "                tir.reads(A[vn, vi, vk], B[vn, vk, vj])\n",
            "                tir.writes(Y[vn, vi, vj])\n",
            "                with tir.init():\n",
            "                    Y[vn, vi, vj] = tir.float32(0)\n",
            "                Y[vn, vi, vj] = Y[vn, vi, vj] + A[vn, vi, vk] * B[vn, vk, vj]\n",
            "        for n, i, j in tir.grid(16, 128, 128):\n",
            "            with tir.block(\"C\"):\n",
            "                vn, vi, vj = tir.axis.remap(\"SSS\", [n, i, j])\n",
            "                tir.reads(Y[vn, vi, vj])\n",
            "                tir.writes(C[vn, vi, vj])\n",
            "                C[vn, vi, vj] = tir.max(Y[vn, vi, vj], tir.float32(0))\n",
            "    \n"
          ]
        }
      ]
    },
    {
      "cell_type": "markdown",
      "source": [
        "In this exercise, let’s focus on transform the original program to a specific target. Note that the target program may not be the best one due to different hardware. But this exercise aims to let students understand how to transform the program to a wanted one. Here is the target program:\n",
        "\n"
      ],
      "metadata": {
        "id": "T4vT0oVMrsNV"
      }
    },
    {
      "cell_type": "code",
      "source": [
        "@tvm.script.ir_module\n",
        "class TargetModule:\n",
        "    @T.prim_func\n",
        "    def bmm_relu(A: T.Buffer[(16, 128, 128), \"float32\"], B: T.Buffer[(16, 128, 128), \"float32\"], C: T.Buffer[(16, 128, 128), \"float32\"]) -> None:\n",
        "        T.func_attr({\"global_symbol\": \"bmm_relu\", \"tir.noalias\": True})\n",
        "        Y = T.alloc_buffer([16, 128, 128], dtype=\"float32\")\n",
        "        for i0 in T.parallel(16):\n",
        "            for i1, i2_0 in T.grid(128, 16):\n",
        "                for ax0_init in T.vectorized(8):\n",
        "                    with T.block(\"Y_init\"):\n",
        "                        n, i = T.axis.remap(\"SS\", [i0, i1])\n",
        "                        j = T.axis.spatial(128, i2_0 * 8 + ax0_init)\n",
        "                        Y[n, i, j] = T.float32(0)\n",
        "                for ax1_0 in T.serial(32):\n",
        "                    for ax1_1 in T.unroll(4):\n",
        "                        for ax0 in T.serial(8):\n",
        "                            with T.block(\"Y_update\"):\n",
        "                                n, i = T.axis.remap(\"SS\", [i0, i1])\n",
        "                                j = T.axis.spatial(128, i2_0 * 8 + ax0)\n",
        "                                k = T.axis.reduce(128, ax1_0 * 4 + ax1_1)\n",
        "                                Y[n, i, j] = Y[n, i, j] + A[n, i, k] * B[n, k, j]\n",
        "                for i2_1 in T.vectorized(8):\n",
        "                    with T.block(\"C\"):\n",
        "                        n, i = T.axis.remap(\"SS\", [i0, i1])\n",
        "                        j = T.axis.spatial(128, i2_0 * 8 + i2_1)\n",
        "                        C[n, i, j] = T.max(Y[n, i, j], T.float32(0))"
      ],
      "metadata": {
        "id": "jneQBXoDrWF3"
      },
      "execution_count": 130,
      "outputs": []
    },
    {
      "cell_type": "code",
      "source": [
        "sch = tvm.tir.Schedule(MyBmmRelu)\n",
        "# TODO: transformations\n",
        "# Hints: you can use\n",
        "# `IPython.display.Code(sch.mod.script(), language=\"python\")`\n",
        "# or `print(sch.mod.script())`\n",
        "# to show the current program at any time during the transformation.\n",
        "\n",
        "# Step 1. Get blocks\n",
        "Y = sch.get_block(\"Y\", func_name=\"bmm_relu\")\n",
        "C = sch.get_block(\"C\", func_name = \"bmm_relu\")\n",
        "\n",
        "# Step 2. Get loops\n",
        "i0, i, j, k = sch.get_loops(Y)\n",
        "sch.parallel(i0)\n",
        "\n",
        "\n",
        "\n",
        "# Step 3. Organize the loops\n",
        "j0, j1 = sch.split(j, factors = [16, 8])\n",
        "sch.reorder(j0, k, j1)\n",
        "sch.reverse_compute_at(C, j0)\n",
        "\n",
        "\n",
        "# Step 4. decompose reduction\n",
        "Y_init = sch.decompose_reduction(Y, k)\n",
        "n, i, j_0, j_1_init = sch.get_loops(Y_init)\n",
        "_, _, _, ax0 = sch.get_loops(C)\n",
        "Y_update = sch.get_block(\"Y_update\", func_name=\"bmm_relu\")\n",
        "_, _, _, k, j_1 = sch.get_loops(Y_update)\n",
        "k0, k1 = sch.split(k, factors=[32, 4])\n",
        "\n",
        "\n",
        "# Step 5. vectorize / parallel / unroll\n",
        "sch.vectorize(j_1_init)\n",
        "sch.vectorize(ax0)\n",
        "sch.unroll(k1)\n",
        "\n",
        "print(sch.mod.script())"
      ],
      "metadata": {
        "colab": {
          "base_uri": "https://localhost:8080/"
        },
        "id": "-KVOphcCrWI7",
        "outputId": "2f46b2f5-d4fa-4b8c-d470-44e063bce33c"
      },
      "execution_count": 152,
      "outputs": [
        {
          "output_type": "stream",
          "name": "stdout",
          "text": [
            "@tvm.script.ir_module\n",
            "class Module:\n",
            "    @tir.prim_func\n",
            "    def bmm_relu(A: tir.Buffer[(16, 128, 128), \"float32\"], B: tir.Buffer[(16, 128, 128), \"float32\"], C: tir.Buffer[(16, 128, 128), \"float32\"]) -> None:\n",
            "        # function attr dict\n",
            "        tir.func_attr({\"global_symbol\": \"bmm_relu\", \"tir.noalias\": True})\n",
            "        # body\n",
            "        # with tir.block(\"root\")\n",
            "        Y = tir.alloc_buffer([16, 128, 128], dtype=\"float32\")\n",
            "        for n in tir.parallel(16):\n",
            "            for i, j_0 in tir.grid(128, 16):\n",
            "                for j_1_init in tir.vectorized(8):\n",
            "                    with tir.block(\"Y_init\"):\n",
            "                        vn, vi = tir.axis.remap(\"SS\", [n, i])\n",
            "                        vj = tir.axis.spatial(128, j_0 * 8 + j_1_init)\n",
            "                        tir.reads()\n",
            "                        tir.writes(Y[vn, vi, vj])\n",
            "                        Y[vn, vi, vj] = tir.float32(0)\n",
            "                for k_0 in tir.serial(32):\n",
            "                    for k_1 in tir.unroll(4):\n",
            "                        for j_1 in tir.serial(8):\n",
            "                            with tir.block(\"Y_update\"):\n",
            "                                vn, vi = tir.axis.remap(\"SS\", [n, i])\n",
            "                                vj = tir.axis.spatial(128, j_0 * 8 + j_1)\n",
            "                                vk = tir.axis.reduce(128, k_0 * 4 + k_1)\n",
            "                                tir.reads(Y[vn, vi, vj], A[vn, vi, vk], B[vn, vk, vj])\n",
            "                                tir.writes(Y[vn, vi, vj])\n",
            "                                Y[vn, vi, vj] = Y[vn, vi, vj] + A[vn, vi, vk] * B[vn, vk, vj]\n",
            "                for ax0 in tir.vectorized(8):\n",
            "                    with tir.block(\"C\"):\n",
            "                        vn, vi = tir.axis.remap(\"SS\", [n, i])\n",
            "                        vj = tir.axis.spatial(128, j_0 * 8 + ax0)\n",
            "                        tir.reads(Y[vn, vi, vj])\n",
            "                        tir.writes(C[vn, vi, vj])\n",
            "                        C[vn, vi, vj] = tir.max(Y[vn, vi, vj], tir.float32(0))\n",
            "    \n"
          ]
        }
      ]
    },
    {
      "cell_type": "markdown",
      "source": [
        "OPTIONAL If we want to make sure the transformed program is exactly the same as the given target, we can use assert_structural_equal. Note that this step is an optional step in this exercise. It’s good enough if you transformed the program towards the target and get performance improvement."
      ],
      "metadata": {
        "id": "uznYKTl2r6-T"
      }
    },
    {
      "cell_type": "code",
      "source": [
        "tvm.ir.assert_structural_equal(sch.mod, TargetModule)\n",
        "print(\"Pass\")"
      ],
      "metadata": {
        "colab": {
          "base_uri": "https://localhost:8080/"
        },
        "id": "mdAXWrdcrwHD",
        "outputId": "7bc78fff-11d4-4631-f8df-693729386a68"
      },
      "execution_count": 149,
      "outputs": [
        {
          "output_type": "stream",
          "name": "stdout",
          "text": [
            "Pass\n"
          ]
        }
      ]
    },
    {
      "cell_type": "code",
      "source": [
        ""
      ],
      "metadata": {
        "id": "mNG1WvYyrwJ7"
      },
      "execution_count": null,
      "outputs": []
    },
    {
      "cell_type": "markdown",
      "source": [
        "### Build and Evaluate¶\n"
      ],
      "metadata": {
        "id": "wUMjfH-cr9IE"
      }
    },
    {
      "cell_type": "markdown",
      "source": [
        "Finally we can evaluate the performance of the transformed program.\n",
        "\n"
      ],
      "metadata": {
        "id": "cC9batTGsBpF"
      }
    },
    {
      "cell_type": "code",
      "source": [
        "before_rt_lib = tvm.build(MyBmmRule, target=\"llvm\")\n",
        "after_rt_lib = tvm.build(sch.mod, target=\"llvm\")\n",
        "a_tvm = tvm.nd.array(np.random.rand(16, 128, 128).astype(\"float32\"))\n",
        "b_tvm = tvm.nd.array(np.random.rand(16, 128, 128).astype(\"float32\"))\n",
        "c_tvm = tvm.nd.array(np.random.rand(16, 128, 128).astype(\"float32\"))\n",
        "after_rt_lib[\"bmm_relu\"](a_tvm, b_tvm, c_tvm)\n",
        "before_timer = before_rt_lib.time_evaluator(\"bmm_relu\", tvm.cpu())\n",
        "print(\"Before transformation:\")\n",
        "print(before_timer(a_tvm, b_tvm, c_tvm))\n",
        "\n",
        "f_timer = after_rt_lib.time_evaluator(\"bmm_relu\", tvm.cpu())\n",
        "print(\"After transformation:\")\n",
        "print(f_timer(a_tvm, b_tvm, c_tvm))"
      ],
      "metadata": {
        "colab": {
          "base_uri": "https://localhost:8080/"
        },
        "id": "6yahBQijrwMp",
        "outputId": "d1f811f4-c65f-4aa5-a9be-a9ee13061670"
      },
      "execution_count": 150,
      "outputs": [
        {
          "output_type": "stream",
          "name": "stdout",
          "text": [
            "Before transformation:\n",
            "Execution time summary:\n",
            " mean (ms)   median (ms)    max (ms)     min (ms)     std (ms)  \n",
            "  49.5689      49.5689      49.5689      49.5689       0.0000   \n",
            "               \n",
            "After transformation:\n",
            "Execution time summary:\n",
            " mean (ms)   median (ms)    max (ms)     min (ms)     std (ms)  \n",
            "  14.0756      14.0756      14.0756      14.0756       0.0000   \n",
            "               \n"
          ]
        }
      ]
    },
    {
      "cell_type": "code",
      "source": [
        ""
      ],
      "metadata": {
        "id": "d2jBag1LsDJt"
      },
      "execution_count": null,
      "outputs": []
    }
  ]
}